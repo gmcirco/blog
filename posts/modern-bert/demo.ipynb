{
 "cells": [
  {
   "cell_type": "code",
   "execution_count": 1,
   "metadata": {},
   "outputs": [
    {
     "name": "stderr",
     "output_type": "stream",
     "text": [
      "c:\\Users\\gioc4\\Anaconda3\\envs\\bert_models\\Lib\\site-packages\\tqdm\\auto.py:21: TqdmWarning: IProgress not found. Please update jupyter and ipywidgets. See https://ipywidgets.readthedocs.io/en/stable/user_install.html\n",
      "  from .autonotebook import tqdm as notebook_tqdm\n"
     ]
    }
   ],
   "source": [
    "from transformers import AutoTokenizer\n",
    "from transformers import AutoModelForSequenceClassification, DataCollatorWithPadding, TrainingArguments, Trainer\n",
    "from sklearn.model_selection import train_test_split\n",
    "from sklearn.preprocessing import LabelEncoder\n",
    "from src.transformer_funcs import CustomDataset, new_input_to_prediction\n",
    "from src.utils import injury_codes\n",
    "import torch\n",
    "import pandas as pd\n",
    "import numpy as np\n",
    "import evaluate\n",
    "import random\n",
    "\n",
    "random.seed(35418)\n",
    "\n",
    "MODEL = \"answerdotai/ModernBERT-base\"\n",
    "TRAIN_DATA = \"C:/Users/gioc4/Documents/blog/data/falls/neis.csv\"\n",
    "MAX_TOKEN_LENGTH = 256\n",
    "DATA_SIZE = 2000\n",
    "TRAIN_SIZE = .90\n",
    "\n",
    "# init some values\n",
    "tokenizer = AutoTokenizer.from_pretrained(MODEL)\n",
    "data_collator = DataCollatorWithPadding(tokenizer=tokenizer)\n",
    "accuracy = evaluate.load(\"accuracy\")\n",
    "precision = evaluate.load(\"precision\")\n",
    "label_encoder = LabelEncoder()\n",
    "\n",
    "# load data\n",
    "neis_data = pd.read_csv(TRAIN_DATA).head(DATA_SIZE)\n",
    "\n",
    "# get top 5 diagnoses\n",
    "values = neis_data.groupby('Diagnosis').size().sort_values(ascending=False)[:5]\n",
    "train_data = neis_data[neis_data['Diagnosis'].isin(values.index.values)]\n"
   ]
  },
  {
   "cell_type": "code",
   "execution_count": 2,
   "metadata": {},
   "outputs": [],
   "source": [
    "# some local funcs\n",
    "def prep_data(dataframe):\n",
    "    X = dataframe['Narrative_1'].to_list()\n",
    "    y = label_encoder.fit_transform(dataframe['Diagnosis'].map(injury_codes))\n",
    "\n",
    "    # return dict of encoded labels\n",
    "    keys = label_encoder.classes_\n",
    "    values = label_encoder.transform(label_encoder.classes_)\n",
    "    value_dict = dict(zip(keys, map(int, values)))\n",
    "\n",
    "\n",
    "    return X, y, value_dict\n",
    "\n",
    "def compute_metrics(eval_pred):\n",
    "    predictions, labels = eval_pred\n",
    "    predictions = np.argmax(predictions, axis=1)\n",
    "\n",
    "    # get preds using just the max predicted value\n",
    "    acc = accuracy.compute(predictions=predictions, references=labels)\n",
    "\n",
    "    return acc\n"
   ]
  },
  {
   "cell_type": "code",
   "execution_count": 3,
   "metadata": {},
   "outputs": [],
   "source": [
    "# set up data\n",
    "# prepare the text and labels, train-test split, and init torch datasets\n",
    "\n",
    "X, y, value_dict = prep_data(train_data)\n",
    "\n",
    "X_train, X_test, y_train, y_test = train_test_split(\n",
    "    X, y, train_size=TRAIN_SIZE, random_state=42\n",
    ")\n",
    "\n",
    "\n",
    "train_dataset = CustomDataset(X_train, y_train, tokenizer, MAX_TOKEN_LENGTH)\n",
    "test_dataset = CustomDataset(X_test, y_test, tokenizer, MAX_TOKEN_LENGTH)"
   ]
  },
  {
   "cell_type": "code",
   "execution_count": 4,
   "metadata": {},
   "outputs": [
    {
     "name": "stderr",
     "output_type": "stream",
     "text": [
      "Some weights of ModernBertForSequenceClassification were not initialized from the model checkpoint at answerdotai/ModernBERT-base and are newly initialized: ['classifier.bias', 'classifier.weight']\n",
      "You should probably TRAIN this model on a down-stream task to be able to use it for predictions and inference.\n",
      "                                                \n",
      " 50%|█████     | 87/174 [20:16<16:54, 11.66s/it]"
     ]
    },
    {
     "name": "stdout",
     "output_type": "stream",
     "text": [
      "{'eval_loss': 0.8524370193481445, 'eval_accuracy': 0.6753246753246753, 'eval_runtime': 37.0549, 'eval_samples_per_second': 4.156, 'eval_steps_per_second': 0.27, 'epoch': 1.0}\n"
     ]
    },
    {
     "name": "stderr",
     "output_type": "stream",
     "text": [
      "                                                 \n",
      "100%|██████████| 174/174 [40:56<00:00, 11.84s/it]"
     ]
    },
    {
     "name": "stdout",
     "output_type": "stream",
     "text": [
      "{'eval_loss': 0.5316950678825378, 'eval_accuracy': 0.7727272727272727, 'eval_runtime': 37.2713, 'eval_samples_per_second': 4.132, 'eval_steps_per_second': 0.268, 'epoch': 2.0}\n"
     ]
    },
    {
     "name": "stderr",
     "output_type": "stream",
     "text": [
      "100%|██████████| 174/174 [40:58<00:00, 14.13s/it]"
     ]
    },
    {
     "name": "stdout",
     "output_type": "stream",
     "text": [
      "{'train_runtime': 2458.4675, 'train_samples_per_second': 1.126, 'train_steps_per_second': 0.071, 'train_loss': 0.8236960926275144, 'epoch': 2.0}\n"
     ]
    },
    {
     "name": "stderr",
     "output_type": "stream",
     "text": [
      "\n"
     ]
    },
    {
     "data": {
      "text/plain": [
       "TrainOutput(global_step=174, training_loss=0.8236960926275144, metrics={'train_runtime': 2458.4675, 'train_samples_per_second': 1.126, 'train_steps_per_second': 0.071, 'total_flos': 471618667438080.0, 'train_loss': 0.8236960926275144, 'epoch': 2.0})"
      ]
     },
     "execution_count": 4,
     "metadata": {},
     "output_type": "execute_result"
    }
   ],
   "source": [
    "# set up model\n",
    "\n",
    "# set labels for inputs\n",
    "id2label = dict((v,k) for k,v in value_dict.items())\n",
    "label2id = value_dict\n",
    "\n",
    "model = AutoModelForSequenceClassification.from_pretrained(MODEL, num_labels=5, id2label=id2label, label2id=label2id)\n",
    "\n",
    "training_args = TrainingArguments(\n",
    "    output_dir=\"models\",\n",
    "    learning_rate=2e-5,\n",
    "    per_device_train_batch_size=16,\n",
    "    per_device_eval_batch_size=16,\n",
    "    num_train_epochs=2,\n",
    "    weight_decay=0.01,\n",
    "    eval_strategy=\"epoch\",\n",
    "    save_strategy=\"epoch\",\n",
    "    load_best_model_at_end=True,\n",
    ")\n",
    "\n",
    "trainer = Trainer(\n",
    "    model=model,\n",
    "    args=training_args,\n",
    "    train_dataset=train_dataset,\n",
    "    eval_dataset=test_dataset,\n",
    "    processing_class=tokenizer,\n",
    "    data_collator=data_collator,\n",
    "    compute_metrics=compute_metrics,\n",
    ")\n",
    "\n",
    "trainer.train()"
   ]
  },
  {
   "cell_type": "code",
   "execution_count": 3,
   "metadata": {},
   "outputs": [],
   "source": [
    "# load model\n",
    "model = AutoModelForSequenceClassification.from_pretrained(\"models/checkpoint-174\", num_labels=5)\n",
    "tokenizer = AutoTokenizer.from_pretrained(\"models/checkpoint-174\")"
   ]
  },
  {
   "cell_type": "code",
   "execution_count": 4,
   "metadata": {},
   "outputs": [],
   "source": [
    "newdata = pd.read_csv(TRAIN_DATA)\n",
    "newdata = newdata.iloc[2500:3000]\n",
    "newdata = newdata[newdata['Diagnosis'].isin(values.index)]\n",
    "\n",
    "new_text_input = newdata['Narrative_1'].tolist()"
   ]
  },
  {
   "cell_type": "code",
   "execution_count": 5,
   "metadata": {},
   "outputs": [],
   "source": [
    "# to get new preds we pass the input through the tokenizer\n",
    "# and get the tokenized input and attention mask\n",
    "outputs = new_input_to_prediction(model, new_text_input, tokenizer, MAX_TOKEN_LENGTH)\n",
    "\n",
    "# convert predictions to probabilities, then get max probability as label\n",
    "predictions = torch.nn.functional.softmax(outputs.logits, dim=1)\n",
    "df_preds = pd.DataFrame(\n",
    "    {\n",
    "        \"text\": new_text_input,\n",
    "        \"label\": newdata[\"Diagnosis\"],\n",
    "        \"pred\": predictions.argmax(1),\n",
    "    }\n",
    ")"
   ]
  },
  {
   "cell_type": "code",
   "execution_count": 8,
   "metadata": {},
   "outputs": [
    {
     "data": {
      "text/plain": [
       "tensor([[2.3225e-02, 7.6291e-01, 1.9845e-01, 8.7046e-03, 6.7145e-03],\n",
       "        [5.4486e-01, 1.5052e-01, 4.9559e-02, 6.9284e-02, 1.8578e-01],\n",
       "        [3.4269e-02, 3.8225e-02, 8.2826e-01, 9.0455e-02, 8.7931e-03],\n",
       "        ...,\n",
       "        [3.1903e-03, 1.3829e-03, 1.7341e-03, 1.6485e-04, 9.9353e-01],\n",
       "        [1.9445e-03, 9.5668e-01, 3.6274e-02, 4.3934e-03, 7.1027e-04],\n",
       "        [9.6429e-05, 9.9820e-01, 8.8022e-04, 7.7958e-04, 4.7722e-05]])"
      ]
     },
     "execution_count": 8,
     "metadata": {},
     "output_type": "execute_result"
    }
   ],
   "source": [
    "torch.nn.functional.softmax(outputs.logits, dim=1)"
   ]
  },
  {
   "cell_type": "code",
   "execution_count": 6,
   "metadata": {},
   "outputs": [
    {
     "data": {
      "text/html": [
       "<div>\n",
       "<style scoped>\n",
       "    .dataframe tbody tr th:only-of-type {\n",
       "        vertical-align: middle;\n",
       "    }\n",
       "\n",
       "    .dataframe tbody tr th {\n",
       "        vertical-align: top;\n",
       "    }\n",
       "\n",
       "    .dataframe thead th {\n",
       "        text-align: right;\n",
       "    }\n",
       "</style>\n",
       "<table border=\"1\" class=\"dataframe\">\n",
       "  <thead>\n",
       "    <tr style=\"text-align: right;\">\n",
       "      <th></th>\n",
       "      <th>text</th>\n",
       "      <th>label</th>\n",
       "      <th>pred</th>\n",
       "      <th>pred_LABEL</th>\n",
       "    </tr>\n",
       "  </thead>\n",
       "  <tbody>\n",
       "    <tr>\n",
       "      <th>2501</th>\n",
       "      <td>27 YOM FELL SKIING AND INJ HAND ON MOUNTAIN  D...</td>\n",
       "      <td>57</td>\n",
       "      <td>1</td>\n",
       "      <td>Fracture</td>\n",
       "    </tr>\n",
       "    <tr>\n",
       "      <th>2502</th>\n",
       "      <td>7 YOF IN HOUSE AND FELL AND HIT HAND ON FURNIT...</td>\n",
       "      <td>57</td>\n",
       "      <td>0</td>\n",
       "      <td>Contusions, Abrasions</td>\n",
       "    </tr>\n",
       "    <tr>\n",
       "      <th>2503</th>\n",
       "      <td>5 MOM ROLLED OFF BED LANDING ON TILE FLOOR AND...</td>\n",
       "      <td>53</td>\n",
       "      <td>2</td>\n",
       "      <td>Internal organ injury</td>\n",
       "    </tr>\n",
       "    <tr>\n",
       "      <th>2504</th>\n",
       "      <td>26 YOM FELL SNOWBOARDING ONTO KNEE INJ IT   DX...</td>\n",
       "      <td>57</td>\n",
       "      <td>2</td>\n",
       "      <td>Internal organ injury</td>\n",
       "    </tr>\n",
       "    <tr>\n",
       "      <th>2505</th>\n",
       "      <td>49 YOF PLAYING SOCCER AND KNOCKED TO GROUOND A...</td>\n",
       "      <td>53</td>\n",
       "      <td>0</td>\n",
       "      <td>Contusions, Abrasions</td>\n",
       "    </tr>\n",
       "    <tr>\n",
       "      <th>...</th>\n",
       "      <td>...</td>\n",
       "      <td>...</td>\n",
       "      <td>...</td>\n",
       "      <td>...</td>\n",
       "    </tr>\n",
       "    <tr>\n",
       "      <th>2992</th>\n",
       "      <td>2 YOM FELL INTO DOORINJURED LIP DX LACERATION LIP</td>\n",
       "      <td>59</td>\n",
       "      <td>3</td>\n",
       "      <td>Laceration</td>\n",
       "    </tr>\n",
       "    <tr>\n",
       "      <th>2994</th>\n",
       "      <td>25 YOM INJURED FINGER ON A BROKEN MIRROR DX LA...</td>\n",
       "      <td>59</td>\n",
       "      <td>3</td>\n",
       "      <td>Laceration</td>\n",
       "    </tr>\n",
       "    <tr>\n",
       "      <th>2995</th>\n",
       "      <td>45 YOF CO PAIN RIGHT ANKLE AND SWELLING HURTS ...</td>\n",
       "      <td>71</td>\n",
       "      <td>4</td>\n",
       "      <td>Other/Not Stated</td>\n",
       "    </tr>\n",
       "    <tr>\n",
       "      <th>2997</th>\n",
       "      <td>22 YOM FELL FROM A LADDER AND INJURED LEFT ANK...</td>\n",
       "      <td>57</td>\n",
       "      <td>1</td>\n",
       "      <td>Fracture</td>\n",
       "    </tr>\n",
       "    <tr>\n",
       "      <th>2998</th>\n",
       "      <td>95 YOF FELL IN FLOOR AND FRACTURED HIP DX FRAC...</td>\n",
       "      <td>57</td>\n",
       "      <td>1</td>\n",
       "      <td>Fracture</td>\n",
       "    </tr>\n",
       "  </tbody>\n",
       "</table>\n",
       "<p>378 rows × 4 columns</p>\n",
       "</div>"
      ],
      "text/plain": [
       "                                                   text  label  pred  \\\n",
       "2501  27 YOM FELL SKIING AND INJ HAND ON MOUNTAIN  D...     57     1   \n",
       "2502  7 YOF IN HOUSE AND FELL AND HIT HAND ON FURNIT...     57     0   \n",
       "2503  5 MOM ROLLED OFF BED LANDING ON TILE FLOOR AND...     53     2   \n",
       "2504  26 YOM FELL SNOWBOARDING ONTO KNEE INJ IT   DX...     57     2   \n",
       "2505  49 YOF PLAYING SOCCER AND KNOCKED TO GROUOND A...     53     0   \n",
       "...                                                 ...    ...   ...   \n",
       "2992  2 YOM FELL INTO DOORINJURED LIP DX LACERATION LIP     59     3   \n",
       "2994  25 YOM INJURED FINGER ON A BROKEN MIRROR DX LA...     59     3   \n",
       "2995  45 YOF CO PAIN RIGHT ANKLE AND SWELLING HURTS ...     71     4   \n",
       "2997  22 YOM FELL FROM A LADDER AND INJURED LEFT ANK...     57     1   \n",
       "2998  95 YOF FELL IN FLOOR AND FRACTURED HIP DX FRAC...     57     1   \n",
       "\n",
       "                 pred_LABEL  \n",
       "2501               Fracture  \n",
       "2502  Contusions, Abrasions  \n",
       "2503  Internal organ injury  \n",
       "2504  Internal organ injury  \n",
       "2505  Contusions, Abrasions  \n",
       "...                     ...  \n",
       "2992             Laceration  \n",
       "2994             Laceration  \n",
       "2995       Other/Not Stated  \n",
       "2997               Fracture  \n",
       "2998               Fracture  \n",
       "\n",
       "[378 rows x 4 columns]"
      ]
     },
     "execution_count": 6,
     "metadata": {},
     "output_type": "execute_result"
    }
   ],
   "source": [
    "df_preds['pred_LABEL'] = df_preds['pred'].map(model.config.id2label)\n",
    "df_preds"
   ]
  }
 ],
 "metadata": {
  "kernelspec": {
   "display_name": "bert_models",
   "language": "python",
   "name": "python3"
  },
  "language_info": {
   "codemirror_mode": {
    "name": "ipython",
    "version": 3
   },
   "file_extension": ".py",
   "mimetype": "text/x-python",
   "name": "python",
   "nbconvert_exporter": "python",
   "pygments_lexer": "ipython3",
   "version": "3.11.0"
  }
 },
 "nbformat": 4,
 "nbformat_minor": 2
}
