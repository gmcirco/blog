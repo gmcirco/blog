{
 "cells": [
  {
   "cell_type": "code",
   "execution_count": 7,
   "metadata": {},
   "outputs": [],
   "source": [
    "from transformers import AutoTokenizer\n",
    "from transformers import AutoModelForSequenceClassification, DataCollatorWithPadding, TrainingArguments, Trainer\n",
    "from sklearn.model_selection import train_test_split\n",
    "from sklearn.preprocessing import LabelEncoder\n",
    "from src.transformer_funcs import CustomDataset, new_input_to_prediction\n",
    "from src.utils import injury_codes\n",
    "import torch\n",
    "import pandas as pd\n",
    "import numpy as np\n",
    "import evaluate\n",
    "import random\n",
    "\n",
    "random.seed(35418)\n",
    "\n",
    "MODEL = \"answerdotai/ModernBERT-base\"\n",
    "TRAIN_DATA = \"C:/Users/gioc4/Documents/blog/data/falls/neis.csv\"\n",
    "MAX_TOKEN_LENGTH = 128\n",
    "DATA_SIZE = 1500\n",
    "TRAIN_SIZE = .90\n",
    "\n",
    "# init some values\n",
    "tokenizer = AutoTokenizer.from_pretrained(MODEL)\n",
    "data_collator = DataCollatorWithPadding(tokenizer=tokenizer)\n",
    "accuracy = evaluate.load(\"accuracy\")\n",
    "label_encoder = LabelEncoder()\n",
    "\n",
    "# load data\n",
    "neis_data = pd.read_csv(TRAIN_DATA).head(DATA_SIZE)\n",
    "\n",
    "# get top 5 diagnoses\n",
    "values = neis_data.groupby('Diagnosis').size().sort_values(ascending=False)[:5]\n",
    "train_data = neis_data[neis_data['Diagnosis'].isin(values.index.values)]\n"
   ]
  },
  {
   "cell_type": "code",
   "execution_count": 3,
   "metadata": {},
   "outputs": [],
   "source": [
    "# some local funcs\n",
    "def prep_data(dataframe):\n",
    "    X = dataframe['Narrative_1'].to_list()\n",
    "    y = label_encoder.fit_transform(dataframe['Diagnosis'].map(injury_codes))\n",
    "\n",
    "    return X, y\n",
    "\n",
    "def compute_metrics(eval_pred):\n",
    "    predictions, labels = eval_pred\n",
    "    predictions = np.argmax(predictions, axis=1)\n",
    "    return accuracy.compute(predictions=predictions, references=labels)\n"
   ]
  },
  {
   "cell_type": "code",
   "execution_count": 9,
   "metadata": {},
   "outputs": [],
   "source": [
    "# set up data\n",
    "# prepare the text and labels, train-test split, and init torch datasets\n",
    "\n",
    "X, y = prep_data(train_data)\n",
    "\n",
    "X_train, X_test, y_train, y_test = train_test_split(\n",
    "    X, y, train_size=TRAIN_SIZE, random_state=42\n",
    ")\n",
    "\n",
    "\n",
    "train_dataset = CustomDataset(X_train, y_train, tokenizer, MAX_TOKEN_LENGTH)\n",
    "test_dataset = CustomDataset(X_test, y_test, tokenizer, MAX_TOKEN_LENGTH)"
   ]
  },
  {
   "cell_type": "code",
   "execution_count": 11,
   "metadata": {},
   "outputs": [
    {
     "name": "stderr",
     "output_type": "stream",
     "text": [
      "Some weights of ModernBertForSequenceClassification were not initialized from the model checkpoint at answerdotai/ModernBERT-base and are newly initialized: ['classifier.bias', 'classifier.weight']\n",
      "You should probably TRAIN this model on a down-stream task to be able to use it for predictions and inference.\n",
      "\n",
      "\u001b[A\n",
      "\u001b[A\n",
      "\u001b[A\n",
      "\u001b[A\n",
      "\u001b[A\n",
      "\u001b[A\n",
      "\u001b[A\n",
      "                                       \n",
      "\u001b[A                                             \n",
      "\n",
      "  0%|          | 0/170 [08:55<?, ?it/s]      \n",
      "\u001b[A\n",
      "\u001b[A"
     ]
    },
    {
     "name": "stdout",
     "output_type": "stream",
     "text": [
      "{'eval_loss': 0.8709285855293274, 'eval_accuracy': 0.7155172413793104, 'eval_runtime': 14.1741, 'eval_samples_per_second': 8.184, 'eval_steps_per_second': 0.564, 'epoch': 1.0}\n"
     ]
    },
    {
     "name": "stderr",
     "output_type": "stream",
     "text": [
      "\n",
      "\u001b[A\n",
      "\u001b[A\n",
      "\u001b[A\n",
      "\u001b[A\n",
      "\u001b[A\n",
      "\u001b[A\n",
      "\u001b[A\n",
      "                                       \n",
      "\u001b[A                                              \n",
      "\n",
      "  0%|          | 0/170 [17:16<?, ?it/s]      \n",
      "\u001b[A\n",
      "\u001b[A"
     ]
    },
    {
     "name": "stdout",
     "output_type": "stream",
     "text": [
      "{'eval_loss': 0.663345992565155, 'eval_accuracy': 0.75, 'eval_runtime': 15.0007, 'eval_samples_per_second': 7.733, 'eval_steps_per_second': 0.533, 'epoch': 2.0}\n"
     ]
    },
    {
     "name": "stderr",
     "output_type": "stream",
     "text": [
      "                                       \n",
      "100%|██████████| 132/132 [16:25<00:00,  7.47s/it]"
     ]
    },
    {
     "name": "stdout",
     "output_type": "stream",
     "text": [
      "{'train_runtime': 985.5166, 'train_samples_per_second': 2.115, 'train_steps_per_second': 0.134, 'train_loss': 0.9155904018517697, 'epoch': 2.0}\n"
     ]
    },
    {
     "name": "stderr",
     "output_type": "stream",
     "text": [
      "\n"
     ]
    },
    {
     "data": {
      "text/plain": [
       "TrainOutput(global_step=132, training_loss=0.9155904018517697, metrics={'train_runtime': 985.5166, 'train_samples_per_second': 2.115, 'train_steps_per_second': 0.134, 'total_flos': 177538530155520.0, 'train_loss': 0.9155904018517697, 'epoch': 2.0})"
      ]
     },
     "execution_count": 11,
     "metadata": {},
     "output_type": "execute_result"
    }
   ],
   "source": [
    "model = AutoModelForSequenceClassification.from_pretrained(MODEL, num_labels=5)\n",
    "\n",
    "training_args = TrainingArguments(\n",
    "    output_dir=\"models\",\n",
    "    learning_rate=2e-5,\n",
    "    per_device_train_batch_size=16,\n",
    "    per_device_eval_batch_size=16,\n",
    "    num_train_epochs=2,\n",
    "    weight_decay=0.01,\n",
    "    eval_strategy=\"epoch\",\n",
    "    save_strategy=\"epoch\",\n",
    "    load_best_model_at_end=True,\n",
    ")\n",
    "\n",
    "trainer = Trainer(\n",
    "    model=model,\n",
    "    args=training_args,\n",
    "    train_dataset=train_dataset,\n",
    "    eval_dataset=test_dataset,\n",
    "    processing_class=tokenizer,\n",
    "    data_collator=data_collator,\n",
    "    compute_metrics=compute_metrics,\n",
    ")\n",
    "\n",
    "trainer.train()"
   ]
  },
  {
   "cell_type": "code",
   "execution_count": 5,
   "metadata": {},
   "outputs": [],
   "source": [
    "# load model\n",
    "model = AutoModelForSequenceClassification.from_pretrained(\"models/checkpoint-132\", num_labels=5)\n",
    "tokenizer = AutoTokenizer.from_pretrained(\"models/checkpoint-132\")"
   ]
  },
  {
   "cell_type": "code",
   "execution_count": 8,
   "metadata": {},
   "outputs": [],
   "source": [
    "newdata = pd.read_csv(TRAIN_DATA)\n",
    "newdata = newdata.iloc[1000:1250]\n",
    "newdata = newdata[newdata['Diagnosis'].isin(values.index)]\n",
    "\n",
    "new_text_input = newdata['Narrative_1'].tolist()"
   ]
  },
  {
   "cell_type": "code",
   "execution_count": 9,
   "metadata": {},
   "outputs": [],
   "source": [
    "# to get new preds we pass the input through the tokenizer\n",
    "# and get the tokenized input and attention mask\n",
    "outputs = new_input_to_prediction(model, new_text_input, tokenizer, MAX_TOKEN_LENGTH)\n",
    "\n",
    "# convert predictions to probabilities, then get max probability as label\n",
    "predictions = torch.nn.functional.softmax(outputs.logits, dim=1)\n",
    "df_preds = pd.DataFrame(\n",
    "    {\n",
    "        \"text\": new_text_input,\n",
    "        \"label\": newdata[\"Diagnosis\"],\n",
    "        \"pred\": predictions.argmax(1),\n",
    "    }\n",
    ")"
   ]
  }
 ],
 "metadata": {
  "kernelspec": {
   "display_name": "bert_models",
   "language": "python",
   "name": "python3"
  },
  "language_info": {
   "codemirror_mode": {
    "name": "ipython",
    "version": 3
   },
   "file_extension": ".py",
   "mimetype": "text/x-python",
   "name": "python",
   "nbconvert_exporter": "python",
   "pygments_lexer": "ipython3",
   "version": "3.11.0"
  }
 },
 "nbformat": 4,
 "nbformat_minor": 2
}
