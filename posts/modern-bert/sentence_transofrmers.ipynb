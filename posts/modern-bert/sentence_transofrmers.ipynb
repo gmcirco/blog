{
 "cells": [
  {
   "cell_type": "code",
   "execution_count": null,
   "metadata": {},
   "outputs": [
    {
     "name": "stderr",
     "output_type": "stream",
     "text": [
      "c:\\Users\\gioc4\\Anaconda3\\envs\\bert_models\\Lib\\site-packages\\tqdm\\auto.py:21: TqdmWarning: IProgress not found. Please update jupyter and ipywidgets. See https://ipywidgets.readthedocs.io/en/stable/user_install.html\n",
      "  from .autonotebook import tqdm as notebook_tqdm\n"
     ]
    }
   ],
   "source": [
    "from sentence_transformers import SentenceTransformer\n",
    "from sentence_transformers.cross_encoder import CrossEncoder\n",
    "\n",
    "import numpy as np\n",
    "import pandas as pd\n",
    "import re\n",
    "\n",
    "from src.search_funcs import RetrieveReranker\n",
    "\n",
    "# local vars\n",
    "BI_ENCODER_MODEL = \"answerdotai/ModernBERT-base\"\n",
    "CROSS_ENCODER_MODEL = \"cross-encoder/ms-marco-TinyBERT-L-2-v2\"\n",
    "CORPUS = \"C:/Users/gioc4/Documents/blog/data/falls/neis.csv\"\n",
    "MAX_TOKEN_LENGTH = 256\n",
    "CORPUS_SIZE = 10000\n",
    "\n",
    "# we want the observations to be agnostic to patient age, so we remove those\n",
    "# define remappings of abbreviations\n",
    "# and strings to remove from narratives\n",
    "\n",
    "remap = {\n",
    "    \"FX\": \"FRACTURE\",\n",
    "    \"INJ\": \"INJURY\",\n",
    "    \"LAC\": \"LACERATION\",\n",
    "    \"LOC\": \"LOSS OF CONCIOUSNESS\",\n",
    "    \"CONT\": \"CONTUSION\",\n",
    "    \"CHI\" : \"CLOSED HEAD INJURY\",\n",
    "    \"ETOH\": \"ALCOHOL\",\n",
    "    \"SDH\": \"SUBDURAL HEMATOMA\",\n",
    "    \"AFIB\": \"ATRIAL FIBRILLATION\",\n",
    "    \"NH\": \"NURSING HOME\",\n",
    "    \"LTCF\": \"LONG TERM CARE FACILITY\",\n",
    "    \"PT\": \"PATIENT\",\n",
    "    \"LT\": \"LEFT\",\n",
    "    \"RT\": \"RIGHT\",\n",
    "    \"&\" : \" AND \"\n",
    "}\n",
    "str_remove = \"YOM|YOF|MOM|MOF|C/O|S/P|H/O|DX\"\n",
    "\n",
    "\n",
    "def process_text(txt):\n",
    "    words = txt.split()\n",
    "    new_words = [remap.get(word, word) for word in words]\n",
    "    txt = \" \".join(new_words)\n",
    "\n",
    "    txt = re.sub(\"[^a-zA-Z ]\", \"\", txt)\n",
    "    txt = re.sub(str_remove, \"\", txt)\n",
    "\n",
    "    return re.sub(r\"^\\s+\", \"\", txt)"
   ]
  },
  {
   "cell_type": "code",
   "execution_count": 2,
   "metadata": {},
   "outputs": [
    {
     "name": "stderr",
     "output_type": "stream",
     "text": [
      "No sentence-transformers model found with name answerdotai/ModernBERT-base. Creating a new one with mean pooling.\n"
     ]
    }
   ],
   "source": [
    "# strings to encode as searchable\n",
    "\n",
    "# load data\n",
    "neis_data = pd.read_csv(CORPUS).head(CORPUS_SIZE)\n",
    "narrative_strings = neis_data['Narrative_1'].apply(process_text).tolist()\n",
    "\n",
    "# define models and ranker\n",
    "biencoder = SentenceTransformer(BI_ENCODER_MODEL)\n",
    "crossencoder = CrossEncoder(CROSS_ENCODER_MODEL)"
   ]
  },
  {
   "cell_type": "code",
   "execution_count": 3,
   "metadata": {},
   "outputs": [],
   "source": [
    "# set up a Retriveal-Ranker class\n",
    "ranker = RetrieveReranker(\n",
    "    corpus=narrative_strings,\n",
    "    bi_encoder_model=biencoder,\n",
    "    cross_encoder_model=crossencoder,\n",
    "    save_corpus=True,\n",
    "    corpus_path=\"C:/Users/gioc4/Documents/blog/data/corpus.pkl\"\n",
    ")"
   ]
  },
  {
   "cell_type": "code",
   "execution_count": 10,
   "metadata": {},
   "outputs": [
    {
     "name": "stdout",
     "output_type": "stream",
     "text": [
      "['PRESENTS WITH LEFT THUMB INJURY SHE WAS DOING A CHEERLEADING MANEUVER HOLDING  OF THE CHEERLEADERS FOOT AND THE LOWER EXTREMITY IN THE AIR AND ACCIDENTALLY HELD THE FOOT UP WITH HER THUMB IN THE WROTN DIRECTION AND FELT LIKE IT HYPEREXTENDED BACKWARD AND SHE FELT A POP  LEFT THUMB SPRAIN', 'WAS PLAYING BASKETBALL WHEN THE BALL HIT HIS LEFT THUMB AND JAMMED IT NOW WITH THUMB PAIN AND SWELLING  SPRAIN OF LEFT THUMB', 'PRESENTS FOR RIGHT THUMB INJURY MOTHER STATES PATIENT HAD HIS RIGHT THUMB IN THE HINGE OF A TOY CHEST AND STATES THE CHEST SLAMMED ON HIS RIGHT THUMB  LACERATION OF RIGHT THUMB WITHOUT FOREIGN BODY NAIL DAMAGE STATUS UNSPECFIED']\n",
      "['INJURY MID BACK LOST BALANCE IN BATHROOM FELL STRUCK BACK ON EDGE OF BATHTUB AT ASSISTED LIVING  T COMPRESSION FRACTURE ', 'FROM ASSISTED LIVING GETTING OUT OF SHOWER INTO WHEELCHAIR AND FELL TO FLOOR  HEMATOMA TO HEAD HEMORRHAGE SUBDURAL TRAUMATIC FALL HEAD INJURY', 'FELL GOT HIS HEAD WEDGED BETWEEN THE TOILET AND THE BATHTUB  CLOSED HEAD INJURY LACERATION SCALP DEAD']\n",
      "['PATIENT STATES WAS RIDING BICYCLE ON LOCAL ROAD WO HELMET WAS STRUCK BY ONCOMING VEHICLE ON RIGHT SIDE AT UNK SPEED AND FELL AND STRUCK THE GROUND  SCALP HEMATOMA', 'PATIENT STATES THAT SHE WAS WALKING THROUGH THE HOUSE AND SLIPPED ON HER GRANDCHILDS PAIR OF BLUE JEANS THAT WERE ON THE WOODEN FLOOR COMPLAINT OF LEFT LOWER LEG PAIN  FRACTURE TIBIAFIBULA LEFT CLOSE FALL', 'SP PEDESTRIAN VS CAR ACCIDENT PATIENT WAS ON HIS BIKE WHEN A CAR STRUCK HIM  AND  ENDORSES LOC HELMET LLE FX  BIKE ACCIDENT SUBARACHNOID HEMORRHAGE FOLLOWING INJ SHAFT OF FEMUR FX SKULL FRACTURE']\n"
     ]
    }
   ],
   "source": [
    "# now pass queries \n",
    "\n",
    "query = [\"14YOF PRESENTS WITH LEFT THUMB PAIN AFTER SHE WAS TRYING TO GET UP OUT OF CHAIR WHEN SHE PUSHED UP FROM THE ARM OF THE CHAIR WITH HER THUMB AND FELT HER THUMB HYPEREXTEND AND THE FELT SHARP PAIN. DX: THUMB SPRAIN\",\n",
    "         \"96YOF WAS GOING TO BATHROOM AT ASSISTED LIVINGN, MISSTEPPED AND MISSED TOILET, FELL, POSSIBLY HIT HEAD ON SINK, DX FALL, HEAD INJ?\",\n",
    "         \"52YOF REPORTS MVA. PT STATES SHE WAS ON A BICYCLE AND BACK OF BIKE GOT CLIPPED BY A CAR AND STATES SHE FEL LON HER LT LEG. DX:CLOSED FX OF SHAFT OF LT FIBULA\"]\n",
    "\n",
    "for q in query:\n",
    "    output = ranker.query(process_text(q), number_ranks=100, number_results=3)\n",
    "    print(output)"
   ]
  }
 ],
 "metadata": {
  "kernelspec": {
   "display_name": "bert_models",
   "language": "python",
   "name": "python3"
  },
  "language_info": {
   "codemirror_mode": {
    "name": "ipython",
    "version": 3
   },
   "file_extension": ".py",
   "mimetype": "text/x-python",
   "name": "python",
   "nbconvert_exporter": "python",
   "pygments_lexer": "ipython3",
   "version": "3.11.0"
  }
 },
 "nbformat": 4,
 "nbformat_minor": 2
}
