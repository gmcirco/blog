{
 "cells": [
  {
   "cell_type": "code",
   "execution_count": 1,
   "metadata": {},
   "outputs": [
    {
     "name": "stderr",
     "output_type": "stream",
     "text": [
      "c:\\Users\\gioc4\\Anaconda3\\envs\\bert_models\\Lib\\site-packages\\tqdm\\auto.py:21: TqdmWarning: IProgress not found. Please update jupyter and ipywidgets. See https://ipywidgets.readthedocs.io/en/stable/user_install.html\n",
      "  from .autonotebook import tqdm as notebook_tqdm\n",
      "No sentence-transformers model found with name answerdotai/ModernBERT-base. Creating a new one with mean pooling.\n"
     ]
    }
   ],
   "source": [
    "from sentence_transformers import SentenceTransformer\n",
    "from sentence_transformers.cross_encoder import CrossEncoder\n",
    "\n",
    "import torch\n",
    "import pandas as pd\n",
    "import re\n",
    "import numpy as np\n",
    "from src.search_funcs import RetrieveReranker\n",
    "\n",
    "MODEL = \"answerdotai/ModernBERT-base\"\n",
    "CORPUS = \"C:/Users/gioc4/Documents/blog/data/falls/neis.csv\"\n",
    "MAX_TOKEN_LENGTH = 256\n",
    "CORPUS_SIZE = 1000\n",
    "\n",
    "# load data\n",
    "neis_data = pd.read_csv(CORPUS).head(CORPUS_SIZE)\n",
    "\n",
    "# define a sentence transformer model\n",
    "model = SentenceTransformer(MODEL)"
   ]
  },
  {
   "cell_type": "code",
   "execution_count": 2,
   "metadata": {},
   "outputs": [],
   "source": [
    "# we want the observations to be agnostic to patient age, so we remove those\n",
    "# define remappings of abbreviations\n",
    "# and strings to remove from narratives\n",
    "\n",
    "remap = {\n",
    "    \"FX\": \"FRACTURE\",\n",
    "    \"INJ\": \"INJURY\",\n",
    "    \"LAC\": \"LACERATION\",\n",
    "    \"LOC\": \"LOSS OF CONCIOUSNESS\",\n",
    "    \"CONT\": \"CONTUSION\",\n",
    "    \"CHI\" : \"CLOSED HEAD INJURY\",\n",
    "    \"ETOH\": \"ALCOHOL\",\n",
    "    \"SDH\": \"SUBDURAL HEMATOMA\",\n",
    "    \"AFIB\": \"ATRIAL FIBRILLATION\",\n",
    "    \"NH\": \"NURSING HOME\",\n",
    "    \"LTCF\": \"LONG TERM CARE FACILITY\",\n",
    "    \"PT\": \"PATIENT\",\n",
    "    \"LT\": \"LEFT\",\n",
    "    \"RT\": \"RIGHT\",\n",
    "    \"&\" : \" AND \"\n",
    "}\n",
    "str_remove = \"YOM|YOF|MOM|MOF|C/O|S/P|H/O|DX\"\n",
    "\n",
    "\n",
    "def process_text(txt):\n",
    "    words = txt.split()\n",
    "    new_words = [remap.get(word, word) for word in words]\n",
    "    txt = \" \".join(new_words)\n",
    "\n",
    "    txt = re.sub(\"[^a-zA-Z ]\", \"\", txt)\n",
    "    txt = re.sub(str_remove, \"\", txt)\n",
    "\n",
    "    return re.sub(r\"^\\s+\", \"\", txt)"
   ]
  },
  {
   "cell_type": "code",
   "execution_count": 3,
   "metadata": {},
   "outputs": [],
   "source": [
    "narrative_strings = neis_data['Narrative_1'].apply(process_text).tolist()"
   ]
  },
  {
   "cell_type": "code",
   "execution_count": 4,
   "metadata": {},
   "outputs": [
    {
     "name": "stderr",
     "output_type": "stream",
     "text": [
      "No sentence-transformers model found with name answerdotai/ModernBERT-base. Creating a new one with mean pooling.\n"
     ]
    }
   ],
   "source": [
    "# define models and ranker\n",
    "biencoder = SentenceTransformer(\"answerdotai/ModernBERT-base\")\n",
    "crossencoder = CrossEncoder(\"cross-encoder/ms-marco-TinyBERT-L-2-v2\")\n",
    "\n",
    "\n",
    "ranker = RetrieveReranker(corpus=narrative_strings,bi_encoder_model=biencoder,cross_encoder_model=crossencoder)"
   ]
  },
  {
   "cell_type": "code",
   "execution_count": 9,
   "metadata": {},
   "outputs": [
    {
     "name": "stdout",
     "output_type": "stream",
     "text": [
      "[-11.441222  -10.746133   -6.4654574  -8.920775  -10.38837   -10.590063\n",
      "  -7.100114   -8.685466   -8.27563    -7.040555  -11.220435  -10.094994\n",
      "  -8.633861  -10.7748375 -11.1467905  -5.588657    3.4937973 -10.036702\n",
      "  -8.446795   -8.041659  -11.057987  -11.380419  -11.407936   -8.145477\n",
      " -10.969235  -10.649743   -9.966466   -5.400455  -11.093788  -11.397966\n",
      " -11.461528   -4.868828  -10.828729  -11.1225605  -7.8962426 -10.278608\n",
      " -10.767406   -4.849986  -11.408037    3.2422495  -8.512106  -11.452318\n",
      " -11.200092   -9.420544  -11.482085   -5.6337714  -3.636729  -10.389117\n",
      " -11.429259  -11.458939  -11.514708   -8.438914  -10.978502  -11.233551\n",
      " -10.575564  -10.0953865 -11.349391   -7.647438  -11.159008  -11.475522\n",
      "  -9.768885  -11.381157  -11.387488   -9.853773   -7.7164884 -10.423466\n",
      " -11.295868   -3.4322436 -11.428775   -8.303815  -11.374237  -10.180848\n",
      "  -9.489268   -6.678531   -7.61709    -7.566039   -7.999158  -10.928313\n",
      " -11.482136   -9.574499  -10.517405   -6.181459  -11.466616   -7.4535475\n",
      "  -9.123381   -6.7580066  -8.495622   -8.861868  -11.441115  -11.518317\n",
      "  -9.218799  -10.293004   -6.877735  -11.516298  -11.405655  -11.202958\n",
      "  -9.75852   -11.075509  -11.455635   -9.103956 ]\n",
      "[  5.8722525    8.215614     0.68093246 -11.293729    -7.9841156\n",
      "  -4.064961   -11.359146     4.8784432   -6.6684027   -7.237368\n",
      " -11.503943     8.610828    -3.3308492   -8.954308    -8.806608\n",
      "  -4.8201313   -6.4830685  -11.304856    -8.953993   -11.016502\n",
      " -11.047445    -4.0262003  -11.54035     -7.8379154  -11.198025\n",
      " -10.931382   -11.5189705   -9.717951   -11.520813     7.463168\n",
      "  -8.927268   -11.509496   -11.320935    -6.1225724   -6.599718\n",
      " -11.35131    -10.466289   -11.420891   -11.354397    -8.570764\n",
      "   4.9697356  -10.869995    -9.985429   -11.357241    -6.081213\n",
      " -11.507961   -10.205468    -9.841896   -11.512806   -11.525216\n",
      " -11.116738   -11.453009     8.862317    -7.134949     0.2334007\n",
      "  -8.221764    -8.464689    -6.58185     -8.870935   -10.8538\n",
      " -11.415039   -11.417934     4.408214    -8.492989    -9.531708\n",
      "   5.071393   -11.55669    -11.453059   -11.209028   -11.543118\n",
      " -10.346592   -11.480169    -6.7900558   -9.390738    -7.147349\n",
      "  -9.96288     -5.9699497   -7.598467    -9.69551    -11.512438\n",
      "   6.6379304  -11.390409   -11.4546795    8.533858    -7.5548377\n",
      "  -9.6450405  -11.498388   -10.61626     -8.418391   -11.40597\n",
      " -11.530408    -8.548507   -11.336495   -10.970666   -10.394178\n",
      " -11.390973    -7.741801    -9.645327   -11.50825     -9.629453  ]\n"
     ]
    }
   ],
   "source": [
    "query = [\"SLIPPED AND FELL IN BATHROOM\",\"FELL DOWN STAIRS\"]\n",
    "\n",
    "for q in query:\n",
    "    output = ranker.query(process_text(q), number_ranks=100)\n",
    "    print(output)"
   ]
  },
  {
   "cell_type": "code",
   "execution_count": 232,
   "metadata": {},
   "outputs": [],
   "source": [
    "# encode verified falls, and neis narratives\n",
    "narrative_embed = model.encode(narrative_strings)"
   ]
  },
  {
   "cell_type": "code",
   "execution_count": 477,
   "metadata": {},
   "outputs": [
    {
     "name": "stderr",
     "output_type": "stream",
     "text": [
      "C:\\Users\\gioc4\\AppData\\Local\\Temp\\ipykernel_6104\\1220501493.py:10: DeprecationWarning: __array__ implementation doesn't accept a copy keyword, so passing copy=False failed. __array__ must implement 'dtype' and 'copy' keyword arguments. To learn more, see the migration guide https://numpy.org/devdocs/numpy_2_0_migration_guide.html#adapting-to-changes-in-the-copy-keyword\n",
      "  idx = np.array(torch.topk(sims, N).indices)[0]\n"
     ]
    }
   ],
   "source": [
    "# rank re-rank method\n",
    "\n",
    "# first we get the top n most semantically similar sentences\n",
    "# then use a bi-encoder to re-rank them\n",
    "query = [\"SLIPPED AND FELL IN BATHROOM\",\"FELL DOWN STAIRS\"]\n",
    "N = 100\n",
    "\n",
    "query_embed = model.encode(process_text(query))\n",
    "sims = model.similarity(query_embed,narrative_embed)\n",
    "idx = np.array(torch.topk(sims, N).indices)[0]"
   ]
  },
  {
   "cell_type": "code",
   "execution_count": 478,
   "metadata": {},
   "outputs": [],
   "source": [
    "ce_list = []\n",
    "\n",
    "for i in idx:\n",
    "    ce_list.append([query, narrative_strings[i]])"
   ]
  },
  {
   "cell_type": "code",
   "execution_count": 479,
   "metadata": {},
   "outputs": [],
   "source": [
    "ce_model = CrossEncoder(\"cross-encoder/ms-marco-TinyBERT-L-2-v2\")\n",
    "scores = ce_model.predict(ce_list)"
   ]
  },
  {
   "cell_type": "code",
   "execution_count": 480,
   "metadata": {},
   "outputs": [
    {
     "data": {
      "text/plain": [
       "'SLIPPED AND FELL IN BATHROOM'"
      ]
     },
     "execution_count": 480,
     "metadata": {},
     "output_type": "execute_result"
    }
   ],
   "source": [
    "ce_list[scores.argmax()][0]"
   ]
  },
  {
   "cell_type": "code",
   "execution_count": 481,
   "metadata": {},
   "outputs": [
    {
     "data": {
      "text/plain": [
       "'SLIPPED AND FELL ON WET BATHROOM FLOOR  LUMBAR PAIN'"
      ]
     },
     "execution_count": 481,
     "metadata": {},
     "output_type": "execute_result"
    }
   ],
   "source": [
    "ce_list[scores.argmax()][1]"
   ]
  }
 ],
 "metadata": {
  "kernelspec": {
   "display_name": "bert_models",
   "language": "python",
   "name": "python3"
  },
  "language_info": {
   "codemirror_mode": {
    "name": "ipython",
    "version": 3
   },
   "file_extension": ".py",
   "mimetype": "text/x-python",
   "name": "python",
   "nbconvert_exporter": "python",
   "pygments_lexer": "ipython3",
   "version": "3.11.0"
  }
 },
 "nbformat": 4,
 "nbformat_minor": 2
}
