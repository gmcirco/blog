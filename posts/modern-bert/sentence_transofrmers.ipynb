{
 "cells": [
  {
   "cell_type": "code",
   "execution_count": null,
   "metadata": {},
   "outputs": [
    {
     "name": "stderr",
     "output_type": "stream",
     "text": [
      "No sentence-transformers model found with name answerdotai/ModernBERT-base. Creating a new one with mean pooling.\n"
     ]
    }
   ],
   "source": [
    "from sentence_transformers import SentenceTransformer\n",
    "from sentence_transformers.cross_encoder import CrossEncoder\n",
    "\n",
    "import torch\n",
    "import pandas as pd\n",
    "import re\n",
    "import numpy as np\n",
    "\n",
    "MODEL = \"answerdotai/ModernBERT-base\"\n",
    "CORPUS = \"C:/Users/gioc4/Documents/blog/data/falls/neis.csv\"\n",
    "MAX_TOKEN_LENGTH = 256\n",
    "CORPUS_SIZE = 10000\n",
    "\n",
    "# load data\n",
    "neis_data = pd.read_csv(CORPUS).head(CORPUS_SIZE)\n",
    "\n",
    "# define a sentence transformer model\n",
    "model = SentenceTransformer(MODEL)"
   ]
  },
  {
   "cell_type": "code",
   "execution_count": 230,
   "metadata": {},
   "outputs": [],
   "source": [
    "# we want the observations to be agnostic to patient age, so we remove those\n",
    "# define remappings of abbreviations\n",
    "# and strings to remove from narratives\n",
    "\n",
    "remap = {\n",
    "    \"FX\": \"FRACTURE\",\n",
    "    \"INJ\": \"INJURY\",\n",
    "    \"LAC\": \"LACERATION\",\n",
    "    \"CONT\": \"CONTUSION\",\n",
    "    \"CHI\" : \"CLOSED HEAD INJURY\",\n",
    "    \"ETOH\": \"ALCOHOL\",\n",
    "    \"SDH\": \"SUBDURAL HEMATOMA\",\n",
    "    \"AFIB\": \"ATRIAL FIBRILLATION\",\n",
    "    \"NH\": \"NURSING HOME\",\n",
    "    \"LTCF\": \"LONG TERM CARE FACILITY\",\n",
    "    \"PT\": \"PATIENT\",\n",
    "    \"LT\": \"LEFT\",\n",
    "    \"RT\": \"RIGHT\",\n",
    "    \"&\" : \" AND \"\n",
    "}\n",
    "str_remove = \"YOM|YOF|MOM|MOF|C/O|S/P|H/O|DX\"\n",
    "\n",
    "\n",
    "def process_text(txt):\n",
    "    words = txt.split()\n",
    "    new_words = [remap.get(word, word) for word in words]\n",
    "    txt = \" \".join(new_words)\n",
    "\n",
    "    txt = re.sub(\"[^a-zA-Z ]\", \"\", txt)\n",
    "    txt = re.sub(str_remove, \"\", txt)\n",
    "\n",
    "    return re.sub(r\"^\\s+\", \"\", txt)"
   ]
  },
  {
   "cell_type": "code",
   "execution_count": 231,
   "metadata": {},
   "outputs": [],
   "source": [
    "narrative_strings = neis_data['Narrative_1'].apply(process_text).tolist()"
   ]
  },
  {
   "cell_type": "code",
   "execution_count": 232,
   "metadata": {},
   "outputs": [],
   "source": [
    "# encode verified falls, and neis narratives\n",
    "narrative_embed = model.encode(narrative_strings)"
   ]
  },
  {
   "cell_type": "code",
   "execution_count": 307,
   "metadata": {},
   "outputs": [
    {
     "name": "stderr",
     "output_type": "stream",
     "text": [
      "C:\\Users\\gioc4\\AppData\\Local\\Temp\\ipykernel_6104\\1708939455.py:10: DeprecationWarning: __array__ implementation doesn't accept a copy keyword, so passing copy=False failed. __array__ must implement 'dtype' and 'copy' keyword arguments. To learn more, see the migration guide https://numpy.org/devdocs/numpy_2_0_migration_guide.html#adapting-to-changes-in-the-copy-keyword\n",
      "  idx = np.array(torch.topk(sims, N).indices)[0]\n"
     ]
    }
   ],
   "source": [
    "# rank re-rank method\n",
    "\n",
    "# first we get the top n most semantically similar sentences\n",
    "# then use a bi-encoder to re-rank them\n",
    "query = \"HEAD INJURY AND RIB FRACTURES S/P FALLING DOWN A FLIGHT OF 10 STAIRS WHILE INTOXICATED WITH ALCOHOL. BAC NS.\"\n",
    "N = 100\n",
    "\n",
    "query_embed = model.encode(query)\n",
    "sims = model.similarity(query_embed,narrative_embed)\n",
    "idx = np.array(torch.topk(sims, N).indices)[0]"
   ]
  },
  {
   "cell_type": "code",
   "execution_count": 308,
   "metadata": {},
   "outputs": [],
   "source": [
    "ce_list = []\n",
    "\n",
    "for i in idx:\n",
    "    ce_list.append([query, narrative_strings[i]])"
   ]
  },
  {
   "cell_type": "code",
   "execution_count": 309,
   "metadata": {},
   "outputs": [],
   "source": [
    "ce_model = CrossEncoder(\"cross-encoder/ms-marco-TinyBERT-L-2-v2\")\n",
    "scores = ce_model.predict(ce_list)"
   ]
  },
  {
   "cell_type": "code",
   "execution_count": 310,
   "metadata": {},
   "outputs": [
    {
     "data": {
      "text/plain": [
       "'HEAD INJURY AND RIB FRACTURES S/P FALLING DOWN A FLIGHT OF 10 STAIRS WHILE INTOXICATED WITH ALCOHOL. BAC NS.'"
      ]
     },
     "execution_count": 310,
     "metadata": {},
     "output_type": "execute_result"
    }
   ],
   "source": [
    "ce_list[scores.argmax()][0]"
   ]
  },
  {
   "cell_type": "code",
   "execution_count": 311,
   "metadata": {},
   "outputs": [
    {
     "data": {
      "text/plain": [
       "'TRIPPED DOWN A FLIGHT OF STAIRS WHILE INTOXICATED NO BAC DRAWN  ACUTE ALCOHOL INTOXICATION HEMATOMA TO SCALP'"
      ]
     },
     "execution_count": 311,
     "metadata": {},
     "output_type": "execute_result"
    }
   ],
   "source": [
    "ce_list[scores.argmax()][1]"
   ]
  }
 ],
 "metadata": {
  "kernelspec": {
   "display_name": "bert_models",
   "language": "python",
   "name": "python3"
  },
  "language_info": {
   "codemirror_mode": {
    "name": "ipython",
    "version": 3
   },
   "file_extension": ".py",
   "mimetype": "text/x-python",
   "name": "python",
   "nbconvert_exporter": "python",
   "pygments_lexer": "ipython3",
   "version": "3.11.0"
  }
 },
 "nbformat": 4,
 "nbformat_minor": 2
}
